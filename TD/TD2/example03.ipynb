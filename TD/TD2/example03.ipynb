{
 "cells": [
  {
   "cell_type": "code",
   "execution_count": null,
   "metadata": {},
   "outputs": [],
   "source": [
    "from tkinter import *\n",
    "\n",
    "CANVAS_WIDTH, CANVAS_HEIGHT = 600, 400\n",
    "\n",
    "if __name__ == '__main__':\n",
    "    root = Tk()\n",
    "\n",
    "    canvas = Canvas(root, width = CANVAS_WIDTH, height = CANVAS_HEIGHT)\n",
    "\n",
    "    # Début de votre code\n",
    "    x0 = 100\n",
    "    x1 = CANVAS_WIDTH - 100\n",
    "    y = CANVAS_HEIGHT / 2\n",
    "    canvas.create_line(x0, y, x0, y)\n",
    "    canvas.create_oval(x0 - 50, y + 50, x0 + 50, y - 50)\n",
    "    canvas.create_oval(x1 - 50, y + 50, x1 + 50, y - 50)\n",
    "    canvas.create_oval((x0 + x1) / 2 - 50, y + 50, (x0 + x1) / 2 + 50, y - 50)\n",
    "\n",
    "    # Début de votre code\n",
    "    \n",
    "    y0= 100\n",
    "    y1=CANVAS_HEIGHT-100\n",
    "    x=CANVAS_WIDTH//2\n",
    "    canvas.create_line(x, y0, x, y1)\n",
    "    canvas.create_oval(x - 50, y0 + 50, x + 50, y0 - 50)\n",
    "    canvas.create_oval(x - 50, y1 + 50, x + 50, y1 - 50)\n",
    "    canvas.create_oval((y0 + y1) / 2 - 50, y + 50, (y1 + y0) / 2 + 50, y - 50)\n",
    "    \n",
    "    # Fin de votre code\n",
    "    canvas.pack()\n",
    "    root.mainloop()"
   ]
  }
 ],
 "metadata": {
  "kernelspec": {
   "display_name": "base",
   "language": "python",
   "name": "python3"
  },
  "language_info": {
   "codemirror_mode": {
    "name": "ipython",
    "version": 3
   },
   "file_extension": ".py",
   "mimetype": "text/x-python",
   "name": "python",
   "nbconvert_exporter": "python",
   "pygments_lexer": "ipython3",
   "version": "3.12.3"
  }
 },
 "nbformat": 4,
 "nbformat_minor": 2
}
